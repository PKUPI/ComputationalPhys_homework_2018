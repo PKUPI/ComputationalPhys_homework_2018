{
 "cells": [
  {
   "cell_type": "markdown",
   "metadata": {},
   "source": [
    "<h4 style=\"text-align:right\">The Course of Computational Physics,&nbsp; Peking University</h4>\n",
    "***\n",
    "<p><br>\n",
    "<h1 style=\"text-align:center\"><font face=\"宋体\" size=6>计算物理学三次作业</font></h1>\n",
    "<br></p>\n",
    "<h2 style=\"text-align:center\"><font face=\"楷体\">姓名:&nbsp;贺鑫</font> </h2>\n",
    "<h2 style=\"text-align:center\"> <font face=\"楷体\">学号:&nbsp; _1500011805_</font></h2>"
   ]
  },
  {
   "cell_type": "markdown",
   "metadata": {},
   "source": [
    "## 1 Householder 与 Givens 在QR算法中的比较"
   ]
  },
  {
   "cell_type": "markdown",
   "metadata": {},
   "source": [
    "> 本题中我们试图比较一下利用 Householder 方法和 Givens 转动在进行矩阵的 QR 分解方面的有效性。为此我们考虑一个任意的矩阵$A\\in\\mathbb{R^{n\\times n}}$，我们希望运用两种方法进行其 QR 分解——即寻找一个正交矩阵 $Q$ 和一个上三角矩阵 $R$ 使得 $A=QR$。  \n",
    "\n",
    ">a) 对于一个任意的(即一般不是稀疏的)矩阵$A\\in\\mathbb{R^{n\\times n}}$，对于$n\\gg 1$，利用Householder 和 Givens 各分别需要多少次的计算才能获得其 QR分解(只需要给出领头阶的贡献)?  \n",
    "\n",
    ">b) 写一个程序，利用 Householder 变换求出任意一个实矩阵的 QR 分解。输入:矩阵 A(以及它的大小 n),输出相应的矩阵 Q 和 R。  \n",
    "\n",
    ">c) 同上问,只不过利用 Givens 转动。  \n",
    "\n",
    ">d) 为了实际测试两种方法的运行速度,请随机产生 20 个 $6\\times6$ 的随机矩阵,它们的矩阵元可以取为在 $(−1,+1)$ 之间均匀分布的实数,将这些矩阵喂给上面你写的程序,给出两种方法获得的时间,列表比较一下哪个方法更快。"
   ]
  },
  {
   "cell_type": "markdown",
   "metadata": {},
   "source": [
    "> a) solution  \n",
    "首先来看Householder约化，思想是:  \n",
    "$$\\textbf{v}=\\textbf{x}-\\|\\textbf{x}\\|\\textbf{e}_k$$\n",
    "$$Q=I-2\\textbf{vv}^T/\\|\\textbf{v}\\|^2$$\n",
    "$$Q\\textbf{x}=x_k\\textbf{e}_k$$\n",
    "对于第k次构造Householder矩阵满足形式，以保证前 $k-1$ 列已经上三角化的形式不变：\n",
    "$$Q'_k=\\begin{pmatrix}\n",
    "I_{k-1} & 0 \\\\\n",
    "0 & Q_k \\\\\n",
    "\\end{pmatrix}$$\n",
    "在Householder约化的过程中，需要计算$n-1$个正交矩阵的乘积，一般矩阵乘法复杂度是$O(n^3)$；不过在考虑unblocked的过程，这个复杂度可以被简化(参考了 Robert A. van de Geijn的讲义分析过程 [http://www.cs.utesas.edu/users/rvdg/books/HQR.pdf] )：  \n",
    "$$\\begin{pmatrix}\n",
    "U_{00} & r_{01} & R_{01} \\\\\n",
    "0 & \\alpha_{11} & a^{T}_{12} \\\\\n",
    "0 & a_{21} & A_{22}\n",
    "\\end{pmatrix}\n",
    "$$\n",
    "note that:\n",
    "$$\n",
    "[\\begin{pmatrix}\\rho_{11}\\\\u_{21}\\end{pmatrix},\\tau_1]:=Housev[\\begin{pmatrix}\\alpha_{11}\\\\a_{21}\\end{pmatrix}]\n",
    ",\\,x:=\\begin{pmatrix}\\alpha_{11}\\\\a_{21}\\end{pmatrix}\\\\\n",
    "\\text{where:  }v=\\begin{pmatrix}\\alpha_{11}-\\|x\\|_2\\\\a_{21}\\end{pmatrix},\\,u=v/\\|v\\|_2,\\,\\tau_1=u^Tu/2,\\,u_{21}:=u[2:]\\\\\n",
    "\\begin{pmatrix}\\rho_{11}&a^{T}_{12}\\\\\n",
    "0 & A_{22}\\end{pmatrix}\n",
    ":=\\Big(I-\\frac{1}{\\tau_1}\\begin{pmatrix}1\\\\u_{21}\\end{pmatrix}\\begin{pmatrix}1 & u_{21}\\end{pmatrix}\\Big)\n",
    "\\begin{pmatrix}\\alpha_{11} & a^{T}_{12}\\\\ a_{21} & A_{22}\\end{pmatrix}\\,\\,\\,\\,\\text{with update by:}\\\\\n",
    "\\omega^{T}_{12}=(a^T_{12}+u^T_{21}A_{22})/\\tau_1\\\\\n",
    "\\begin{pmatrix}a^T_{12}\\\\A_{22}\\end{pmatrix}\n",
    "=\\begin{pmatrix}a^T_{12}-\\omega^T_{12}\\\\A_{22}-u_{21}\\omega^T_{12}\\end{pmatrix}\n",
    "$$\n",
    "考虑到$A$的更新：第k次最重要的计算量的贡献在于$u^T_{21}A_{22}$的计算上，需要$4(m-k)(n-k)$次的浮点运算(而$m=n$)，所以计算量估算为：\n",
    "$$N=\\sum_{k=0}^{n-1} 4(n-k)^2=4\\sum_{j=0}^{n-1}j^2\\approx4\\int_0^nx^2dx\\sim O(\\frac{4}{3}n^3)$$\n",
    "不过在程序的具体实现中，还是使用了直接numpt.dot的功能(这样的话，复杂度会被提升到$O(n^4)$)\n",
    "\n",
    "\n",
    ">接着看Givens转动：  \n",
    "需要计算$n(n-1)/2$个正交矩阵的连乘积，而矩阵的乘法复杂度是$O(n^3)$，考虑到Givens矩阵的特殊性，每轮Givens矩阵的计算与Q,R的更新，需要$8n+4$次乘除法和$4n+1$次加减法以及$1$次开平方，(因为$I$与$G$只有4个元素的差别，因而可以大大简化了矩阵乘法的复杂度，详细分析也可以参看(c)的注释)。  \n",
    "综上Givens转动的复杂度也可以达到：  \n",
    "$$n(n-1)/2\\times(12n+6)\\sim O(6n^3)\\sim(n^3)$$\n",
    "值得一提的是，虽然分析上可以将关于Givens矩阵的乘法手动化成order(n)的复杂度，但这样却并没有比直接使用numpy.dot要快(理论上是$O(n^5)$，但$G$中包含大量0的运算，有关0的运算应该会很快？)，此外更可能与语言底层有很大的关系。在myQR中，提供了两种方式各自的实现。比较的结果是：在n较小的时候，myQR.QR_givens()使用了numpy会快一点(比如n=100)，不过n较大时使用简化矩阵乘法的myQR.QR_givens_my()会更快一点(比如n=200)，读者可以自行验证。"
   ]
  },
  {
   "cell_type": "markdown",
   "metadata": {},
   "source": [
    "> b) solution  \n"
   ]
  },
  {
   "cell_type": "code",
   "execution_count": 17,
   "metadata": {},
   "outputs": [
    {
     "name": "stdout",
     "output_type": "stream",
     "text": [
      "[[ 0.13608276  0.60167471 -0.56521591  0.02012109 -0.42929519  0.33955969]\n",
      " [ 0.13608276  0.60167471  0.2751709  -0.51811809  0.09111955 -0.51672127]\n",
      " [ 0.13608276  0.25603179  0.76973483  0.26911959 -0.26020737  0.42814048]\n",
      " [ 0.13608276  0.25603179 -0.07065199  0.80735877  0.14748215 -0.48719434]\n",
      " [ 0.13608276  0.25603179 -0.07065199  0.00251514  0.8454391   0.44290395]\n",
      " [ 0.95257934 -0.28163497 -0.04834083 -0.0829995  -0.05636261 -0.02952693]] \n",
      "\n",
      " [[  7.34846923e+00   1.90515869e+00   2.17732422e+00   2.44948974e+00\n",
      "    2.72165527e+00   7.07630370e+00]\n",
      " [  3.78160164e-16   2.89315924e+00   3.40522282e+00   3.22600057e+00\n",
      "    3.73806415e+00   1.56179392e+00]\n",
      " [  2.38064000e-16  -9.46491043e-17   2.37985647e+00   2.38729352e+00\n",
      "   -2.75170904e-01  -3.04919110e-01]\n",
      " [ -6.12336456e-18   2.73853164e-16  -5.69504328e-16   3.72743209e+00\n",
      "    3.73749264e+00   9.55751818e-02]\n",
      " [ -2.14998533e-17  -4.66486360e-18  -5.99576543e-16  -3.22991709e-17\n",
      "    4.30986065e+00   4.28355810e+00]\n",
      " [  1.08350064e-17   3.00157526e-16  -7.27223127e-17  -8.19467930e-17\n",
      "    1.22349826e-16   2.24404666e+00]]\n"
     ]
    }
   ],
   "source": [
    "import numpy as np\n",
    "import matplotlib.pyplot as plt\n",
    "import pandas as pd\n",
    "%matplotlib inline\n",
    "\n",
    "# the input information: matrix A can be arbitrary, for comparing between HQR and GQR, we fix A as below:\n",
    "n=6\n",
    "A=np.ones((n,n))\n",
    "for i in range(n):\n",
    "    A[i,i]=i+1;A[i,(i+1)%n]=i+2\n",
    "# end input information\n",
    "def norm(v):\n",
    "    # need k multiplication, k-1 addtion, 1 sqrt, (k=len(v))\n",
    "    return np.sqrt(np.dot(v,v))\n",
    "\n",
    "Qfull=np.eye(n)\n",
    "R=A.copy()\n",
    "for i in range(n-1):\n",
    "    v=R[i:,i].copy()\n",
    "    nm_x=norm(v)\n",
    "    v[0]=v[0]-nm_x\n",
    "    Q=np.eye(n)\n",
    "    Q[i:,i:]=Q[i:,i:]-2*np.outer(v,v)/np.dot(v,v)\n",
    "    # update the Qfull(total orthogonal matrix) and R\n",
    "    Qfull=np.dot(Qfull,Q)\n",
    "    R=np.dot(Q,R)\n",
    "print(Qfull,'\\n\\n',R)"
   ]
  },
  {
   "cell_type": "markdown",
   "metadata": {},
   "source": [
    "> c) solution  \n",
    "与(b)的A是一致的，可以对比上下两个程序给出的QR分解也是完全一致的！(b)(c)的程序被重新副本在了myQR.py中以供外部程序使用。"
   ]
  },
  {
   "cell_type": "code",
   "execution_count": 7,
   "metadata": {},
   "outputs": [
    {
     "name": "stdout",
     "output_type": "stream",
     "text": [
      "[[ 0.13608276 -0.60167471  0.56521591 -0.02012109  0.42929519  0.33955969]\n",
      " [-0.13608276  0.60167471  0.2751709  -0.51811809  0.09111955  0.51672127]\n",
      " [-0.13608276  0.25603179  0.76973483  0.26911959 -0.26020737 -0.42814048]\n",
      " [-0.13608276  0.25603179 -0.07065199  0.80735877  0.14748215  0.48719434]\n",
      " [-0.13608276  0.25603179 -0.07065199  0.00251514  0.8454391  -0.44290395]\n",
      " [-0.95257934 -0.28163497 -0.04834083 -0.0829995  -0.05636261  0.02952693]] \n",
      "\n",
      " [[  7.34846923e+00   1.90515869e+00   2.17732422e+00   2.44948974e+00\n",
      "    2.72165527e+00   7.07630370e+00]\n",
      " [  5.34875802e-17  -2.89315924e+00  -3.40522282e+00  -3.22600057e+00\n",
      "   -3.73806415e+00  -1.56179392e+00]\n",
      " [ -6.07553221e-17   3.29871250e-17  -2.37985647e+00  -2.38729352e+00\n",
      "    2.75170904e-01   3.04919110e-01]\n",
      " [ -1.31928476e-16  -2.11271320e-17  -8.81102986e-17  -3.72743209e+00\n",
      "   -3.73749264e+00  -9.55751818e-02]\n",
      " [ -2.50980112e-17  -1.60027560e-17  -5.98332049e-17   0.00000000e+00\n",
      "   -4.30986065e+00  -4.28355810e+00]\n",
      " [  8.04610752e-18   3.59290076e-17  -3.13450876e-17   0.00000000e+00\n",
      "    0.00000000e+00  -2.24404666e+00]]\n"
     ]
    }
   ],
   "source": [
    "import numpy as np\n",
    "import matplotlib.pyplot as plt\n",
    "import pandas as pd\n",
    "%matplotlib inline\n",
    "\n",
    "# the input information\n",
    "n=6\n",
    "A=np.ones((n,n))\n",
    "for i in range(n):\n",
    "    A[i,i]=i+1;A[i,(i+1)%n]=i+2\n",
    "# end input information\n",
    "\n",
    "Q=np.eye(n)\n",
    "R=A.copy()\n",
    "for i in range(n):\n",
    "    for k in range(i+1,n):\n",
    "        # 1 judge, 2 divide, 2 times, 1 add, 1 sqrt\n",
    "        # construct Givens matrix from i-th and k-th rows and columns\n",
    "        if(abs(R[i,i])>abs(R[k,i])): \n",
    "            t=R[k,i]/R[i,i]\n",
    "            c=1/np.sqrt(1+t*t);s=c*t;\n",
    "        else:\n",
    "            t=R[i,i]/R[k,i]\n",
    "            s=1/np.sqrt(1+t*t);c=s*t;\n",
    "        #After above, as we known, (parts of)Givens matrix can formula as:\n",
    "        #G[0,0]=c;G[1,1]=c;\n",
    "        #G[0,1]=s;G[1,0]=-s;\n",
    "        #But here, we needn't construct an explicit Givens Matrix directly\n",
    "        # next to update the Q and R\n",
    "        # for G is near unit-matrix, the multiply of G with other matrix \n",
    "        #                 actually need order(n)'s amount of calculation\n",
    "        for j in range(n): # 8n multiply, 4n addtion/subtraction\n",
    "            #############################################\n",
    "            # we update [Q[j,i],Q[j,k]]=[Q[j,i],Q[j,k]]*|c  s|, by 4 step\n",
    "            #                                           |-s c|\n",
    "            #############################################\n",
    "            tmp1=Q[j,i]*c-Q[j,k]*s;\n",
    "            tmp2=Q[j,i]*s+Q[j,k]*c;\n",
    "            Q[j,i]=tmp1;\n",
    "            Q[j,k]=tmp2;\n",
    "            ############################################# also does update of R\n",
    "            tmp1=R[i,j]*c+R[k,j]*s;\n",
    "            tmp2=-R[i,j]*s+R[k,j]*c\n",
    "            R[i,j]=tmp1; R[k,j]=tmp2;\n",
    "print(Q,'\\n\\n',R)"
   ]
  },
  {
   "cell_type": "markdown",
   "metadata": {},
   "source": [
    "> d) solution  \n",
    "从实习的程序可见，对于$n=6$的随机矩阵的QR分解，Householder与Givens速度是差不多的，或者说前者略微优于后者。当n增大时，Householder的速度是明显快于Givens的(可以自行调整n的大小,见QR_explain.png)  \n",
    "\\[注：当然这与直接使用numpy.dot直接相关，这点来看，Householder只涉及n-1个矩阵的乘积，而后者涉及$n(n-1)/2$个，显然前者会更有利一些。当然，利用unblock的手段，理论两者都能化成$O(n^3)$的计算量，同样前者略微优于后者。\\]"
   ]
  },
  {
   "cell_type": "code",
   "execution_count": 16,
   "metadata": {},
   "outputs": [
    {
     "data": {
      "image/png": "[encoded data removed]",
      "text/plain": [
       "<matplotlib.figure.Figure at 0x2aaadf5e1978>"
      ]
     },
     "metadata": {},
     "output_type": "display_data"
    },
    {
     "name": "stdout",
     "output_type": "stream",
     "text": [
      "    1-Householder  2-Givens\n",
      "0        0.000799  0.000221\n",
      "1        0.000177  0.000193\n",
      "2        0.000146  0.000163\n",
      "3        0.000142  0.000161\n",
      "4        0.000141  0.000178\n",
      "5        0.000141  0.000161\n",
      "6        0.000139  0.000165\n",
      "7        0.000138  0.000161\n",
      "8        0.000139  0.000160\n",
      "9        0.000138  0.000160\n",
      "10       0.000137  0.000162\n",
      "11       0.000139  0.000165\n",
      "12       0.000142  0.000164\n",
      "13       0.000140  0.000162\n",
      "14       0.000138  0.000161\n",
      "15       0.000139  0.000161\n",
      "16       0.000140  0.000160\n",
      "17       0.000171  0.000170\n",
      "18       0.000147  0.000168\n",
      "19       0.000147  0.000166\n"
     ]
    }
   ],
   "source": [
    "import numpy as np\n",
    "import matplotlib.pyplot as plt\n",
    "import pandas as pd\n",
    "import time\n",
    "import myQR\n",
    "%matplotlib inline\n",
    "\n",
    "n=6; # the dimension of matrix A\n",
    "cycles=20; # the number of tests to be taken\n",
    "runtime=np.zeros((2,cycles))\n",
    "for i in range(cycles):\n",
    "    # test for householder QR, record in runtime[0] \n",
    "    A=2*np.random.random((n,n))-1\n",
    "    t1=time.time()\n",
    "    (Q,R)=myQR.QR_householder(A,n)\n",
    "    t2=time.time()\n",
    "    runtime[0,i]=t2-t1\n",
    "    # test for givens QR, record in runtime[1]\n",
    "    A=2*np.random.random((n,n))-1\n",
    "    t1=time.time()\n",
    "    (Q,R)=myQR.QR_givens(A,n)\n",
    "    t2=time.time()\n",
    "    runtime[1,i]=t2-t1\n",
    "x=np.arange(cycles)\n",
    "plt.plot(x,runtime[0,],'r.-',x,runtime[1,],'b.-')\n",
    "plt.savefig('QR_compare.png')\n",
    "plt.show()\n",
    "\n",
    "lst=pd.DataFrame({'1-Householder':runtime[0],'2-Givens':runtime[1]})\n",
    "print(lst)"
   ]
  },
  {
   "cell_type": "markdown",
   "metadata": {},
   "source": [
    "## 幂次法求矩阵最大模的本征值和本征矢"
   ]
  },
  {
   "cell_type": "markdown",
   "metadata": {},
   "source": [
    "> 本题中我们考虑利用幂次法 (power method)来求一个矩阵 $A\\in\\mathbb{R^{n\\times n}}$ 的本征值的问题。同时将它运用到一个具体的实例:一维原子链的振动。  \n",
    "考虑一个一维的原子链的经典振动问题。假定我们有 $N$ 个原子,每个都具有质量$m$,均匀相间排列在 $x$ 轴上。相邻两个原子间有相同的弹簧 (倔强系数均为$k$) 相连。为了简化讨论我们取 $k/m = 1$。整个原子链上的原子可以在其平衡位置附近做小振动。如果我们将第 $i$ 个原子偏离平衡位置的位移记为 $x_i(t)$,那么这些原子满足的经典运动方程为:  \n",
    "$$\\ddot{x}_i-[x_{i-1}+x_{i+1}-2x_i]=0$$\n",
    "当然为了明确起见，我们还必须加上合适的边界条件。为了方便我们取周期性边界条件即$x_{i+N}(t)=x_i(t)$，因此,物理上这 $N$ 个粒子实际上是连城一个圆环。于是上述方程可以写为矩阵方程：  \n",
    "$$\\ddot{x}=-A\\cdot x$$\n",
    "其中 A 是一个矩阵，其矩阵元为:$(−A)_{ij}= \\delta_{i-1,j} + \\delta_{i+1,j} − 2\\delta_{ij}$。而 $x(t) =\n",
    "(x_1(t),\\dots, x_N(t))^T \\in \\mathbb{C}^N$ 则是解矢量。我们将尝试 $x(t) = xe^{−i\\omega t}$ 的解从而振幅 $x$ 原则上可以是任意的复矢量，真实的物理的解被认为是这个复矢量解的实部：$x_{phy.} (t) = Re(x(t))$。  \n",
    "\n",
    ">a) 考虑一个一维的原子链的经典振动解，尝试 $x(t) = xe^{−i\\omega t}$ ,说明振幅 $x \\in \\mathbb{C}^N$ 实际上满足一个本征方程：$A\\cdot x = \\lambda x$。事实上本征值 $\\lambda = \\omega^2$。  \n",
    "\n",
    ">b) 是的，这个题目可以轻易地解析求解。但现在我们假装不知道这点。请写一个利用下面介绍的幂次法求解上述本征值问题的程序。求出体系最大的本征频率的平方$\\omega^2$。这对应于最大的 $\\lambda$。  \n",
    "【幂次法】:我们从任意一个单位矢量 $q^{(0)} \\in \\mathbb{C}^N$ 出发，我们从 $k=1,2,\\dots$ 开始构造迭代：  \n",
    "$$z^{(k)}=A\\cdot q^{(k-1)},\\,q^{(k)}=z^{(k)}/\\|z^{(k)}\\|$$\n",
    "$$\\nu^{(k)}=[q^{(k)}]^{\\dagger}A q^{(k)}$$\n",
    "现在假定矩阵 $A$ 是可对角化的，从而它的本征值构成一组完备的基。我们\n",
    "约定矩阵 $A$ 的本征值排列如下，$\\lambda_1 > \\lambda_2 \\ge\\dots \\ge \\lambda_N$。相应的本征矢记为$v_1,\\dots,v_N$。它们可以构成正交归一完备的一组基矢。将初始的矢量 $q^{(0)}$ 按照\n",
    "本征矢进行展开。证明只要初始的矢量 $q^{(0)}$ 在 $v_1$ 方向的投影不恒等于零,上述的幂次法迭代最终会获得相应的本征值和本征矢,即:  \n",
    "$$\\lim_{k\\to\\infty}\\nu^{(k)}=\\lambda_1,\\,\\lim_{k\\to\\infty}q^{(k)}=v_1$$\n",
    "最后，对于 $N=10$ 的情形,利用你的程序给出相应的本征值以及本征矢。"
   ]
  },
  {
   "cell_type": "markdown",
   "metadata": {},
   "source": [
    "> a) solution  \n",
    "显然\n",
    "$$\\ddot{x}(t)=\\frac{d^2}{dt^2}x(t)=\\frac{d^2}{dt^2}\\{xe^{-i\\omega t}\\}=-\\omega^2xe^{-i\\omega t}=-\\omega^2x(t)$$\n",
    "代入到方程$\\ddot{x}(t)=-A\\cdot x(t)$，即：  \n",
    "$$-\\omega^2x(t)=-A\\cdot x(t)$$\n",
    "$$-\\omega^2xe^{-i\\omega t}=-A\\cdot xe^{-i\\omega t}$$\n",
    "$$\\omega^2 x=A\\cdot x$$\n",
    "这里对应题干的$\\lambda=\\omega^2$就是显而易见的，即证毕！"
   ]
  },
  {
   "cell_type": "markdown",
   "metadata": {},
   "source": [
    "> b) solution  \n",
    "显然，$A$的本征矢量构成一个完备的空间，则$q^{(0)}$可以在这个空间内展开为$q^{(k)}=\\sum_{i=1,N}c^k_i v_i$，则按照题目的假设满足条件$c^0_i\\ne 0$，考虑递推关系：  \n",
    "$$\\begin{eqnarray}\n",
    "q^{(k+1)}&=\\frac{A\\cdot q^{(k)}}{\\|A\\cdot q^{(k)}\\|} \n",
    "=\\frac{A(\\sum_{i=1,N}c^k_i v_i)}{\\|A(\\sum_{i=1,N}c^k_i v_i)\\|} \\\\\n",
    "&=\\frac{\\sum_{i=1,N}\\lambda_i c^k_i v_i}{\\|\\sum_{i=1,N}\\lambda_i c^k_i v_i\\|}=\\sum_{i=1,N}c^{k+1}_i v_i\n",
    "\\end{eqnarray}$$\n",
    "那么：\n",
    "$$c^{k+1}_i=\\frac{\\lambda_i c^k_i}{\\|\\sum_{i=1,N}\\lambda_i c^k_i v_i\\|}$$\n",
    "即：\n",
    "$$\\frac{c^{k+1}_i/c^{k}_i}{c^{k+1}_j/c^{k}_j}=\\frac{\\lambda_i}{\\lambda_j}$$\n",
    "推广得：  \n",
    "$$\\frac{c^{k}_i/c^{0}_i}{c^{k}_j/c^{0}_j}=(\\frac{\\lambda_i}{\\lambda_j})^k$$\n",
    "即因为$\\lambda_1$是最大的，对于$\\lambda_i < \\lambda_1$则有：\n",
    "$$\\lim_{k\\to\\infty}\\frac{c^{k}_i}{c^{k}_1}=\\lim_{k\\to\\infty}\\frac{c^{0}_i}{c^{0}_1}(\\frac{\\lambda_i}{\\lambda_1})^k=0$$\n",
    "又根据$\\{v_i\\}$正交归一的条件，$q^{(k)}$始终作为单位矢量，其投影系数的平方和是恒为1的：  \n",
    "$$\\sum_i(c^k_i)^2=1$$\n",
    "所以：\n",
    "$$\\begin{eqnarray}\n",
    "\\lim_{k\\to\\infty}\\sum_i(c^k_i)^2/(c^k_1)^2=\\lim_{k\\to\\infty}1/(c^k_1)^2 \\\\\n",
    "\\lim_{k\\to\\infty}\\sum_i(c^k_i/c^k_1)^2=\\lim_{k\\to\\infty}1/(c^k_1)^2 \\\\\n",
    "1+0+0+\\dots+0=\\lim_{k\\to\\infty}1/(c^k_1)^2\n",
    "\\end{eqnarray}$$\n",
    "即要求关系：\n",
    "$$c^{\\infty}_1=\\pm 1,\\,\\,c^{\\infty}_{i\\ne1}=0$$\n",
    "即$\\lim_{k\\to\\infty}q^{(k)}=\\pm v_1$，因为正交归一的本征矢的方向有一定的任意性，我们规定选取$v_1$与$q^{(\\infty)}$同向即可(即初始的$q^{(0)}$在$v_1$上的投影为正值，投影量随迭代逐渐放大！如果$q^{(0)}$在$v_1$上的投影为负值，是有负号的)。  \n",
    "因为$\\lim_{k\\to\\infty}q^{(k)}=\\pm v_1$：\n",
    "$$\\lim_{k\\to\\infty}\\nu^{(k)}=\\lim_{k\\to\\infty}[q^{(k)}]^{\\dagger}A q^{(k)}=(\\pm)^2 (v_1)^{\\dagger}Av_1=\\lambda_1(v_1)^{\\dagger}v_1=\\lambda_1$$\n",
    "综上，证毕。  \n",
    "数值结果如下;"
   ]
  },
  {
   "cell_type": "code",
   "execution_count": 94,
   "metadata": {},
   "outputs": [
    {
     "name": "stdout",
     "output_type": "stream",
     "text": [
      "[[ 2. -1.  0.  0.  0.  0.  0.  0.  0. -1.]\n",
      " [-1.  2. -1.  0.  0.  0.  0.  0.  0.  0.]\n",
      " [ 0. -1.  2. -1.  0.  0.  0.  0.  0.  0.]\n",
      " [ 0.  0. -1.  2. -1.  0.  0.  0.  0.  0.]\n",
      " [ 0.  0.  0. -1.  2. -1.  0.  0.  0.  0.]\n",
      " [ 0.  0.  0.  0. -1.  2. -1.  0.  0.  0.]\n",
      " [ 0.  0.  0.  0.  0. -1.  2. -1.  0.  0.]\n",
      " [ 0.  0.  0.  0.  0.  0. -1.  2. -1.  0.]\n",
      " [ 0.  0.  0.  0.  0.  0.  0. -1.  2. -1.]\n",
      " [-1.  0.  0.  0.  0.  0.  0.  0. -1.  2.]]\n",
      "the step of diffience of vec-norm converging to 10e-20 is: 191\n",
      "the vector is:\n",
      " [-0.31622777  0.31622777 -0.31622777  0.31622777 -0.31622776  0.31622776\n",
      " -0.31622777  0.31622777 -0.31622777  0.31622777] \n",
      "the max-eigenvalue is:\n",
      " 4.0\n"
     ]
    }
   ],
   "source": [
    "import numpy as np\n",
    "import matplotlib.pyplot as plt\n",
    "import pandas as pd\n",
    "%matplotlib inline\n",
    "\n",
    "N=10\n",
    "q=np.random.random(N) # generate a random vector as q^0\n",
    "# initial of matrix A\n",
    "A=np.zeros((N,N))\n",
    "for i in range(N):\n",
    "    A[i,i]=2;A[i,(i-1+N)%N]=-1;A[i,(i+1)%N]=-1\n",
    "print(A)\n",
    "\n",
    "qbefore=np.zeros(N)\n",
    "for i in range(1000):\n",
    "    z=np.dot(A,q)\n",
    "    q=z/np.sqrt(np.dot(z,z))\n",
    "    if(np.dot(q-qbefore,q-qbefore)<10e-20): # check the convergence\n",
    "        print('the step of diffience of vec-norm converging to 10e-20 is:',i)\n",
    "        break\n",
    "    qbefore=q.copy()\n",
    "lbd=np.dot(q,np.dot(A,q)) # we needn't lbd for iternation, so write it out of the cycle-body\n",
    "print('the vector is:\\n',q,'\\nthe max-eigenvalue is:\\n',lbd)"
   ]
  },
  {
   "cell_type": "markdown",
   "metadata": {},
   "source": [
    "> 这与解析的结果相同：  \n",
    "对于这种循环矩阵，可以借助范特蒙德矩阵进行计算(其实也就是所谓的FFT)，这里不加证明地列述结论(也不是题目要求)，对于：  \n",
    "$$A=\\begin{pmatrix}\n",
    "\\alpha & \\beta & 0 & \\dots & \\beta \\\\\n",
    "\\beta & \\alpha & \\beta & \\dots & 0 \\\\\n",
    "\\dots & \\dots & \\dots & \\dots & \\dots \\\\\n",
    "\\beta & 0 & 0 & \\dots & \\alpha\n",
    "\\end{pmatrix}$$\n",
    "其本征值和本征矢量分别为：\n",
    "$$\\begin{eqnarray}\n",
    "\\lambda_j&=&\\alpha+2\\beta \\cos{\\frac{2j\\pi}{N}} \\\\\n",
    "(q_j)_k&=&\\frac{1}{\\sqrt{N}}\\exp\\{\\frac{2\\pi i j(k-1)}{N}\\}\n",
    "\\end{eqnarray}$$\n",
    "这与结果最大本征值对应的$\\lambda_j=4$ (当$j=N/2=5时$) 以及其本征矢量 $q_j=\\frac{1}{\\sqrt{10}}(1,-1,1,-1,1,-1,1,-1,1,-1)$是完全对应的！"
   ]
  }
 ],
 "metadata": {
  "kernelspec": {
   "display_name": "Python 3",
   "language": "python",
   "name": "python3"
  },
  "language_info": {
   "codemirror_mode": {
    "name": "ipython",
    "version": 3
   },
   "file_extension": ".py",
   "mimetype": "text/x-python",
   "name": "python",
   "nbconvert_exporter": "python",
   "pygments_lexer": "ipython3",
   "version": "3.5.2"
  }
 },
 "nbformat": 4,
 "nbformat_minor": 2
}
